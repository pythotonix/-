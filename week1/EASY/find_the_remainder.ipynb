{
 "cells": [
  {
   "cell_type": "markdown",
   "metadata": {},
   "source": [
    "## Find the Remainder"
   ]
  },
  {
   "cell_type": "markdown",
   "metadata": {},
   "source": [
    "[Умова задачі](https://www.codewars.com/kata/524f5125ad9c12894e00003f/train/python)\n",
    "(Перший запит до ШІ повністю скопійовано з умови на сайті)"
   ]
  },
  {
   "cell_type": "markdown",
   "metadata": {},
   "source": [
    "#### Codium Response "
   ]
  },
  {
   "cell_type": "code",
   "execution_count": null,
   "metadata": {},
   "outputs": [],
   "source": [
    "def get_remainder(n, m):\n",
    "    if n == 0 or m == 0:\n",
    "        return None\n",
    "    else:\n",
    "        return max(n, m) % min(n, m)\n"
   ]
  },
  {
   "cell_type": "markdown",
   "metadata": {},
   "source": [
    "З першого разу задачі не покрила випадок, коли є ділення на нуль, тому \n",
    "був сформований наступний запит:"
   ]
  },
  {
   "cell_type": "markdown",
   "metadata": {},
   "source": [
    "*I got 'Divide by zero should only be checked for the lowest number: None should equal 0'*"
   ]
  },
  {
   "cell_type": "code",
   "execution_count": null,
   "metadata": {},
   "outputs": [],
   "source": [
    "def get_remainder(n, m):\n",
    "    if min(n, m) == 0:\n",
    "        return 0\n",
    "    else:\n",
    "        return max(n, m) % min(n, m)\n"
   ]
  },
  {
   "cell_type": "markdown",
   "metadata": {},
   "source": [
    "Тепер попередню умову виконано, але при діленні на нуль має повертати None, тому був сформований наступний запит. (Запит скопійований з помилки отриманої на Codewars)"
   ]
  },
  {
   "cell_type": "markdown",
   "metadata": {},
   "source": [
    "*Divide by zero should return None: 0 should equal None*"
   ]
  },
  {
   "cell_type": "code",
   "execution_count": null,
   "metadata": {},
   "outputs": [],
   "source": [
    "def get_remainder(n, m):\n",
    "    if min(n, m) == 0:\n",
    "        return None\n",
    "    else:\n",
    "        return max(n, m) % min(n, m)\n"
   ]
  },
  {
   "cell_type": "markdown",
   "metadata": {},
   "source": [
    "Остання третя відповідь пройшла усі тести на [Codewars](https://www.codewars.com/kata/524f5125ad9c12894e00003f/train/python)"
   ]
  },
  {
   "cell_type": "markdown",
   "metadata": {},
   "source": [
    "####  Codewhisperer Response "
   ]
  },
  {
   "cell_type": "markdown",
   "metadata": {},
   "source": [
    "Головна проблема полягає у тому, що Codewhisperer не розв'язує задачі прямо в чаті. Була спроба закинути йому посилання на Codewars, але спочатку він придумав сам собі умову, а не прочитав вказану в завданні. Я продублювавла умову в чат і він розв'язав задачі, але не вкахував ZeroDivisionError. Я декілька разів ще просила виправивти помилку, але він не генерував новий розвязок. Далі я спробувала написати умову коментарями в комірці і скористатись автозаповненням, але він все одно так і не розвязав задачі. "
   ]
  },
  {
   "cell_type": "markdown",
   "metadata": {},
   "source": [
    "https://www.codewars.com/kata/524f5125ad9c12894e00003f/train/python\n"
   ]
  },
  {
   "cell_type": "code",
   "execution_count": 1,
   "metadata": {},
   "outputs": [],
   "source": [
    "# Write a function that accepts two integers and returns the remainder of dividing the larger value by the smaller value.\n",
    "\n",
    "# Division by zero should return an empty value.\n",
    "\n",
    "# example\n",
    "\n",
    "# n = 17\n",
    "# m = 5\n",
    "# result = 2 (remainder of \n",
    "# 17 / 5\n",
    "# )\n",
    "\n",
    "# n = 13\n",
    "# m = 72\n",
    "# result = 7 (remainder of \n",
    "# 72 / 13\n",
    "# )\n",
    "\n",
    "# n = 0\n",
    "# m = -1\n",
    "# result = 0 (remainder of \n",
    "# 0 / -1\n",
    "# )\n",
    "\n",
    "# n = 0\n",
    "# m = 1\n",
    "# result - division by zero (refer to the specifications on how to handle this in your language)\n",
    "# def remainder(n, m):\n",
    "# consider ZeroDivisionError: integer modulo by zero\n",
    "def remainder(n, m):\n",
    "    if m == 0:\n",
    "        return None\n",
    "    elif n > m:\n",
    "        return n % m\n",
    "    else:\n",
    "        return m % n\n",
    "# i got Zero division error, rewrite it\n",
    "def remainder(n, m):\n",
    "    if n > m:\n",
    "        return n % m\n",
    "    elif m > n:\n",
    "        return m % n\n",
    "    else:\n",
    "        return None\n",
    "    \n"
   ]
  },
  {
   "cell_type": "markdown",
   "metadata": {},
   "source": [
    "Задача 8 рівня була розв'язана лише Codeium З третього запиту, Codewhisperer так і не розв'язав задачу проятгом години переформульовування запитів і автозаповенння. "
   ]
  }
 ],
 "metadata": {
  "kernelspec": {
   "display_name": "Python 3",
   "language": "python",
   "name": "python3"
  },
  "language_info": {
   "codemirror_mode": {
    "name": "ipython",
    "version": 3
   },
   "file_extension": ".py",
   "mimetype": "text/x-python",
   "name": "python",
   "nbconvert_exporter": "python",
   "pygments_lexer": "ipython3",
   "version": "3.11.5"
  }
 },
 "nbformat": 4,
 "nbformat_minor": 2
}
