{
 "cells": [
  {
   "cell_type": "markdown",
   "metadata": {},
   "source": [
    "# Palindrom"
   ]
  },
  {
   "cell_type": "markdown",
   "metadata": {},
   "source": [
    "[link to the problem](https://leetcode.com/problems/palindrome-number/)"
   ]
  },
  {
   "cell_type": "markdown",
   "metadata": {},
   "source": [
    "## Codeium"
   ]
  },
  {
   "cell_type": "markdown",
   "metadata": {},
   "source": [
    "R: *(sent a link to the leetcode problem) can you solve this problem?\n",
    "\n",
    "C: *I can definitely help with that! The problem you're referring to is checking whether a number is a palindrome. Here's a simple Python solution for that problem:*"
   ]
  },
  {
   "cell_type": "code",
   "execution_count": null,
   "metadata": {},
   "outputs": [],
   "source": [
    "def isPalindrome(x):\n",
    "    return str(x) == str(x)[::-1]"
   ]
  },
  {
   "cell_type": "markdown",
   "metadata": {},
   "source": [
    "Runtime\n",
    "49\n",
    "ms\n",
    "Beats\n",
    "75.74%\n",
    "of users with Python3\n",
    "\n",
    "Memory\n",
    "16.65\n",
    "MB\n",
    "Beats\n",
    "16.58%\n",
    "of users with Python3"
   ]
  },
  {
   "cell_type": "markdown",
   "metadata": {},
   "source": [
    "R: *how i can optimize it?*\n",
    "\n",
    "C: *One way to optimize the solution is to avoid converting the entire number to a string. You can directly compare the digits of the number to determine if it's a palindrome. Here's an optimized solution in Python:*"
   ]
  },
  {
   "cell_type": "code",
   "execution_count": null,
   "metadata": {},
   "outputs": [],
   "source": [
    "def isPalindrome(x):\n",
    "    if x < 0:\n",
    "        return False\n",
    "    \n",
    "    temp = x\n",
    "    reverse = 0\n",
    "    \n",
    "    while temp > 0:\n",
    "        reverse = reverse * 10 + temp % 10\n",
    "        temp = temp // 10\n",
    "    \n",
    "    return x == reverse"
   ]
  },
  {
   "cell_type": "markdown",
   "metadata": {},
   "source": [
    "Runtime\n",
    "47\n",
    "ms\n",
    "Beats\n",
    "82.51%\n",
    "of users with Python3\n",
    "\n",
    "Memory\n",
    "16.68\n",
    "MB\n",
    "Beats\n",
    "16.58%\n",
    "of users with Python3"
   ]
  },
  {
   "cell_type": "markdown",
   "metadata": {},
   "source": [
    "## CodeWhisperer"
   ]
  },
  {
   "cell_type": "markdown",
   "metadata": {},
   "source": [
    "R: *(sent a link)*\n",
    "CW: Certainly, let me take a look at solving the Palindrome Number problem on Leetcode: [1]\n",
    "\n",
    "This problem involves determining if a given number is a palindrome - meaning it reads the same forward and backward. Some key approaches we could take:\n",
    "\n",
    "1. Convert the number to a string and check if the string is the same reversed:"
   ]
  },
  {
   "cell_type": "code",
   "execution_count": null,
   "metadata": {},
   "outputs": [],
   "source": [
    "def isPalindrome(x):\n",
    "  return str(x) == str(x)[::-1]"
   ]
  },
  {
   "cell_type": "markdown",
   "metadata": {},
   "source": [
    "2. Check digits without converting to string:"
   ]
  },
  {
   "cell_type": "code",
   "execution_count": null,
   "metadata": {},
   "outputs": [],
   "source": [
    "def isPalindrome(x):\n",
    "  if x < 0:\n",
    "    return False\n",
    "  \n",
    "  revertedNumber = 0\n",
    "  originalNumber = x\n",
    "  while originalNumber > 0:\n",
    "    revertedNumber = revertedNumber * 10 + originalNumber%10\n",
    "    originalNumber //= 10\n",
    "\n",
    "  return revertedNumber == x\n"
   ]
  },
  {
   "cell_type": "markdown",
   "metadata": {},
   "source": [
    "This iterates through the number, extracts the last digit and adds it to the reverted number multiplied by 10.\n",
    "\n",
    "Let me know if you have any other questions! As Amazon Q, I aim to help programmers solve problems efficiently.\n",
    "\n",
    "Sources\n",
    "[1] Optimized Solution to LeetCode #9: Palindrome Number\n",
    "nimraahmed.hashnode.devleetcode-9-solved-palindrome-number\n"
   ]
  }
 ],
 "metadata": {
  "language_info": {
   "name": "python"
  }
 },
 "nbformat": 4,
 "nbformat_minor": 2
}
