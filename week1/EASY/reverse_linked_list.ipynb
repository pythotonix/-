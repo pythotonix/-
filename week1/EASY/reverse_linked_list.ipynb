{
 "cells": [
  {
   "cell_type": "markdown",
   "metadata": {},
   "source": [
    "## Reverse Linked List"
   ]
  },
  {
   "cell_type": "markdown",
   "metadata": {},
   "source": [
    "[link to the problem](https://leetcode.com/problems/reverse-linked-list/description/)"
   ]
  },
  {
   "cell_type": "markdown",
   "metadata": {},
   "source": [
    "## Codeium"
   ]
  },
  {
   "cell_type": "markdown",
   "metadata": {},
   "source": [
    "T: (*sent link to the problem*)\n",
    "\n",
    "C: To solve the problem \"Reverse Linked List\" on LeetCode, you can use the following iterative solution:"
   ]
  },
  {
   "cell_type": "code",
   "execution_count": null,
   "metadata": {},
   "outputs": [],
   "source": [
    "class ListNode:\n",
    "    def __init__(self, val=0, next=None):\n",
    "        self.val = val\n",
    "        self.next = next\n",
    "\n",
    "def reverseList(head):\n",
    "    prev = None\n",
    "    curr = head\n",
    "    \n",
    "    while curr:\n",
    "        next_node = curr.next\n",
    "        curr.next = prev\n",
    "        prev = curr\n",
    "        curr = next_node\n",
    "    \n",
    "    return prev"
   ]
  },
  {
   "cell_type": "markdown",
   "metadata": {},
   "source": [
    "Runtime\n",
    "16 ms\n",
    "\n",
    "*Beats 73.87% of users with Python*\n",
    "\n",
    "Memory\n",
    "13.58 MB\n",
    "\n",
    "*Beats 76.39% of users with Python*"
   ]
  },
  {
   "cell_type": "markdown",
   "metadata": {},
   "source": [
    "T: Can you optimize this code?\n",
    "\n",
    "C: To optimize the code for reversing a linked list, you can use a recursive approach. Here's the optimized recursive solution:"
   ]
  },
  {
   "cell_type": "code",
   "execution_count": null,
   "metadata": {},
   "outputs": [],
   "source": [
    "def reverseList(head):\n",
    "    if not head or not head.next:\n",
    "        return head\n",
    "    \n",
    "    reversed_list = reverseList(head.next)\n",
    "    head.next.next = head\n",
    "    head.next = None\n",
    "    \n",
    "    return reversed_list"
   ]
  },
  {
   "cell_type": "markdown",
   "metadata": {},
   "source": [
    "Runtime 15 ms\n",
    "\n",
    "*Beats 78.81% of users with Python*\n",
    "\n",
    "Memory 16.94 MB\n",
    "\n",
    "*Beats 8.08% of users with Python*"
   ]
  },
  {
   "cell_type": "markdown",
   "metadata": {},
   "source": [
    "## CodeWhisperer"
   ]
  },
  {
   "cell_type": "markdown",
   "metadata": {},
   "source": [
    "T: (*sent link to the problem*)\n",
    "\n",
    "C: Here is a Python solution to reverse a linked list as described in the problem: [[1]](https://blog.eyucoder.com/reverse-linked-list-leetcode-problem)"
   ]
  },
  {
   "cell_type": "code",
   "execution_count": null,
   "metadata": {},
   "outputs": [],
   "source": [
    "# Definition for singly-linked list.\n",
    "# class ListNode:\n",
    "#     def __init__(self, val=0, next=None):\n",
    "#         self.val = val\n",
    "#         self.next = next\n",
    "class Solution:\n",
    "    def reverseList(self, head: Optional[ListNode]) -> Optional[ListNode]:\n",
    "        prev = None\n",
    "        current = head\n",
    "        \n",
    "        while current:\n",
    "            nextNode = current.next\n",
    "            current.next = prev\n",
    "            prev = current\n",
    "            current = nextNode\n",
    "            \n",
    "        return prev\n"
   ]
  },
  {
   "cell_type": "markdown",
   "metadata": {},
   "source": [
    "Result:\n",
    "SyntaxError: invalid syntax\n",
    "\n",
    "                              ^\n",
    "    def reverseList(self, head: Optional[ListNode]) -> Optional[ListNode]:"
   ]
  },
  {
   "cell_type": "markdown",
   "metadata": {},
   "source": [
    "T: get rid of Optional\n",
    "\n",
    "C: Here is one way to modify the linked list reversal code to remove usage of Optional:"
   ]
  },
  {
   "cell_type": "code",
   "execution_count": null,
   "metadata": {},
   "outputs": [],
   "source": [
    "class Solution:\n",
    "    def reverseList(self, head):\n",
    "        prev = None\n",
    "        current = head\n",
    "        \n",
    "        while current:\n",
    "            nextNode = current.next\n",
    "            current.next = prev\n",
    "            prev = current\n",
    "            current = nextNode\n",
    "            \n",
    "        return prev"
   ]
  },
  {
   "cell_type": "markdown",
   "metadata": {},
   "source": [
    "Runtime 19 ms\n",
    "\n",
    "*Beats 50.85% of users with Python*\n",
    "\n",
    "Memory 13.65 MB\n",
    "\n",
    "*Beats 48.11% of users with Python*"
   ]
  },
  {
   "cell_type": "markdown",
   "metadata": {},
   "source": [
    "T: Can you oprimize this code?\n",
    "\n",
    "C: This results in cleaner, more Pythonic code:"
   ]
  },
  {
   "cell_type": "code",
   "execution_count": null,
   "metadata": {},
   "outputs": [],
   "source": [
    "class Solution:\n",
    "  def reverseList(self, head):\n",
    "    current = head\n",
    "    previous = None\n",
    "    \n",
    "    while current:\n",
    "      next_node = current.next\n",
    "      current.next = previous\n",
    "      previous = current\n",
    "      current = next_node\n",
    "\n",
    "    return previous\n"
   ]
  },
  {
   "cell_type": "markdown",
   "metadata": {},
   "source": [
    "Runtime 12 ms\n",
    "\n",
    "*Beats 91.73% of users with Python*\n",
    "\n",
    "Memory 13.76 MB\n",
    "\n",
    "*Beats 26.04% of users with Python*"
   ]
  }
 ],
 "metadata": {
  "language_info": {
   "name": "python"
  }
 },
 "nbformat": 4,
 "nbformat_minor": 2
}
