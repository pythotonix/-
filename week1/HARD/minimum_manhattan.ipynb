{
 "cells": [
  {
   "cell_type": "markdown",
   "metadata": {},
   "source": [
    "## Minimize Manhattan Distance"
   ]
  },
  {
   "cell_type": "markdown",
   "metadata": {},
   "source": [
    "[link to the problem](https://leetcode.com/problems/minimize-manhattan-distances/description/)"
   ]
  },
  {
   "cell_type": "markdown",
   "metadata": {},
   "source": [
    "## Codeium"
   ]
  },
  {
   "cell_type": "markdown",
   "metadata": {},
   "source": [
    "T: (*sent link to the problem*)\n",
    "\n",
    "C: To solve the problem \"Minimize Manhattan Distance\" on LeetCode, you can use the following Python code:"
   ]
  },
  {
   "cell_type": "code",
   "execution_count": null,
   "metadata": {},
   "outputs": [],
   "source": [
    "def minimumDistance(self, grid):\n",
    "        def min_distance(points):\n",
    "            points.sort()\n",
    "            i, j = 0, len(points) - 1\n",
    "            distance = 0\n",
    "            \n",
    "            while i < j:\n",
    "                distance += points[j] - points[i]\n",
    "                i += 1\n",
    "                j -= 1\n",
    "            \n",
    "            return distance\n",
    "        rows = [i for i, row in enumerate(grid) for _ in range(sum(row))]\n",
    "        cols = [j for j, col in enumerate(zip(*grid)) for _ in range(sum(col))]\n",
    "        \n",
    "        return min_distance(rows) + min_distance(cols)\n"
   ]
  },
  {
   "cell_type": "markdown",
   "metadata": {},
   "source": [
    "Wrong Answer\n",
    "\n",
    "\n",
    "Output\n",
    "63\n",
    "\n",
    "Expected\n",
    "12\n"
   ]
  },
  {
   "cell_type": "markdown",
   "metadata": {},
   "source": [
    "T: Input points = [[3,10],[5,15],[10,2],[4,4]]\n",
    "\n",
    "Output 63 Expected 12\n",
    "\n",
    "C: Apologies for the confusion. It seems I misunderstood the problem. Let me correct that.\n",
    "\n",
    "To solve the \"Minimize Manhattan Distances\" problem on LeetCode and get the correct output, you can use the following Python code:"
   ]
  },
  {
   "cell_type": "code",
   "execution_count": null,
   "metadata": {},
   "outputs": [],
   "source": [
    "def minimumDistance(self, points):\n",
    "    def min_distance(axis_points):\n",
    "        axis_points.sort()\n",
    "        i, j = 0, len(axis_points) - 1\n",
    "        distance = 0\n",
    "        while i < j:\n",
    "            distance += axis_points[j] - axis_points[i]\n",
    "            i += 1\n",
    "            j -= 1\n",
    "        return distance\n",
    "\n",
    "    rows = [point[0] for point in points]\n",
    "    cols = [point[1] for point in points]\n",
    "\n",
    "    return min_distance(rows) + min_distance(cols)"
   ]
  },
  {
   "cell_type": "markdown",
   "metadata": {},
   "source": [
    "Wrong Answer\n",
    "\n",
    "\n",
    "Output\n",
    "27\n",
    "\n",
    "Expected\n",
    "12\n"
   ]
  },
  {
   "cell_type": "code",
   "execution_count": 2,
   "metadata": {},
   "outputs": [],
   "source": [
    "def minTotalDistance(self, points):\n",
    "    max_distances = []\n",
    "    for i, p1 in enumerate(points):\n",
    "        distances = [abs(p1[0] - p2[0]) + abs(p1[1] - p2[1]) for j, p2 in enumerate(points) if i != j]\n",
    "        max_distances.append(max(distances))\n",
    "    return min(max_distances)\n"
   ]
  },
  {
   "cell_type": "markdown",
   "metadata": {},
   "source": [
    "Wrong Answer\n",
    "\n",
    "93 / 537 testcases passed\n",
    "\n",
    "Input\n",
    "points =\n",
    "[[3,2],[3,9],[7,10],[4,4],[8,10],[2,7]]\n",
    "\n",
    "Output\n",
    "7\n",
    "\n",
    "Expected\n",
    "10"
   ]
  },
  {
   "cell_type": "code",
   "execution_count": 7,
   "metadata": {},
   "outputs": [],
   "source": [
    "def minTotalDistance(points):\n",
    "    x_coordinates = [point[0] for point in points]\n",
    "    y_coordinates = [point[1] for point in points]\n",
    "\n",
    "    x_coordinates.sort()\n",
    "    y_coordinates.sort()\n",
    "\n",
    "    x_median = x_coordinates[len(x_coordinates) // 2]\n",
    "    y_median = y_coordinates[len(y_coordinates) // 2]\n",
    "\n",
    "    min_max_distance = float('inf')\n",
    "    for point in points:\n",
    "        x_dist = abs(point[0] - x_median)\n",
    "        y_dist = abs(point[1] - y_median)\n",
    "        min_max_distance = min(min_max_distance, max(x_dist, y_dist))\n",
    "\n",
    "    return min_max_distance\n"
   ]
  },
  {
   "cell_type": "markdown",
   "metadata": {},
   "source": [
    "Wrong Answer"
   ]
  },
  {
   "cell_type": "markdown",
   "metadata": {},
   "source": [
    "T: Вийшла з чату\n",
    "\n",
    "Взаємодія з генерацією коду на ходу"
   ]
  },
  {
   "cell_type": "code",
   "execution_count": null,
   "metadata": {},
   "outputs": [],
   "source": [
    "def minTotalDistance(points):\n",
    "    ans=float('inf')\n",
    "    plus=sorted([(x+y,i) for i,(x,y) in enumerate(points)])\n",
    "    minus=sorted([(x-y,i) for i,(x,y) in enumerate(points)])\n",
    "    corner1=plus[0][1]\n",
    "    corner2=plus[-1][1]\n",
    "    corner3=minus[0][1]\n",
    "    corner4=minus[-1][1]\n",
    "    for i in {corner1,corner2,corner3,corner4}:\n",
    "        if i==corner1:\n",
    "            left1=1\n",
    "        else:\n",
    "            left1=0\n",
    "        if i==corner2:\n",
    "            right1=-2\n",
    "        else:\n",
    "            right1=-1\n",
    "        if i==corner3:\n",
    "            left2=1\n",
    "        else:\n",
    "            left2=0\n",
    "        if i==corner4:\n",
    "            right2=-2\n",
    "        else:\n",
    "            right2=-1\n",
    "        ans=min(ans,max(plus[right1][0]-plus[left1][0],minus[right2][0]-minus[left2][0]))\n",
    "    return ans"
   ]
  },
  {
   "cell_type": "markdown",
   "metadata": {},
   "source": [
    "Runtime 1358 ms\n",
    "\n",
    "*Beats 60.11% of users with Python*\n",
    "\n",
    "Memory 65.80 MB\n",
    "\n",
    "*Beats 17.14% of users with Python*"
   ]
  },
  {
   "cell_type": "markdown",
   "metadata": {},
   "source": [
    "## CodeWhisperer"
   ]
  },
  {
   "cell_type": "markdown",
   "metadata": {},
   "source": [
    "T: (*sent link to the problem*)\n",
    "\n",
    "C: Here is a Python solution to minimize the total Manhattan distance to a given set of points: [[1]](https://stackoverflow.com/questions/71764035/how-to-find-coordinate-to-minimise-manhattan-distance-in-linear-time)\n",
    "\n",
    "We are given a list of points coordinates as a 2D list. To minimize the total Manhattan distance, we can find the median point. [[2]](https://cs.stackexchange.com/questions/104307/minimizing-the-maximum-manhattan-distance)\n",
    "\n",
    "Then we calculate the total Manhattan distance by summing the absolute difference of each point to the median point. [[3]](https://docs.aws.amazon.com/AmazonRDS/latest/AuroraUserGuide/PostgreSQL_trusted_language_extension.html)"
   ]
  },
  {
   "cell_type": "code",
   "execution_count": null,
   "metadata": {},
   "outputs": [],
   "source": [
    "class Solution:\n",
    "    def minimumDistance(self, points):\n",
    "        points.sort(key=lambda x: x[0])\n",
    "        median_x = points[len(points)//2][0]\n",
    "        \n",
    "        points.sort(key=lambda x: x[1]) \n",
    "        median_y = points[len(points)//2][1]\n",
    "\n",
    "        total = 0\n",
    "        for p in points:\n",
    "            total += abs(p[0] - median_x) + abs(p[1] - median_y)\n",
    "\n",
    "        return total\n"
   ]
  },
  {
   "cell_type": "markdown",
   "metadata": {},
   "source": [
    "Wrong Answer\n",
    "\n",
    "\n",
    "Output\n",
    "27\n",
    "\n",
    "Expected\n",
    "12"
   ]
  },
  {
   "cell_type": "markdown",
   "metadata": {},
   "source": [
    "T: (вийшла з чату)\n",
    "\n",
    "перейшла до генерації коду\n",
    "\n",
    "*#you have to find the minimum distance between any two points after removing exactly one point.*\n",
    "\n",
    "*#meaning see what the maximum distance is after removing each point is and then return the smallest one*\n"
   ]
  },
  {
   "cell_type": "code",
   "execution_count": null,
   "metadata": {},
   "outputs": [],
   "source": [
    "class Solution:\n",
    "    def minimumDistance(self, points):\n",
    "        x_values = [point[0] for point in points]\n",
    "        y_values = [point[1] for point in points]\n",
    "        x_values.sort()\n",
    "        y_values.sort()\n",
    "        min_distance = float(\"inf\")\n",
    "        for i in range(len(points)):\n",
    "            x_distance = abs(x_values[i] - x_values[i-1])\n",
    "            y_distance = abs(y_values[i] - y_values[i-1])\n",
    "            distance = x_distance + y_distance\n",
    "            min_distance = min(min_distance, distance)\n",
    "            if min_distance == 0:\n",
    "                break\n",
    "        return min_distance"
   ]
  },
  {
   "cell_type": "markdown",
   "metadata": {},
   "source": [
    "Wrong Answer\n",
    "\n",
    "\n",
    "Output\n",
    "3\n",
    "\n",
    "Expected\n",
    "12"
   ]
  },
  {
   "cell_type": "markdown",
   "metadata": {},
   "source": [
    "T: \n",
    "*#so you have to find the minimum distance between any two points after removing exactly one point.*\n",
    "\n",
    "*#Notice that the Manhattan distance between two points [xi, yi] and [xj, yj] is  max({xi - xj + yi - yj, xi - xj - yi + yj, - xi + xj + yi - yj, - xi + xj - yi + yj}).*\n",
    "\n",
    "*#If you replace points as [xi - yi, xi + yi] then the Manhattan distance is max(max(xi) - min(xi), max(yi) - min(yi)) over all i.*"
   ]
  },
  {
   "cell_type": "code",
   "execution_count": null,
   "metadata": {},
   "outputs": [],
   "source": [
    "def minDistance(points):\n",
    "    x = [p[0] for p in points]\n",
    "    y = [p[1] for p in points]\n",
    "    return min(max(x) - min(x), max(y) - min(y))"
   ]
  },
  {
   "cell_type": "markdown",
   "metadata": {},
   "source": [
    "T: Безнадійно"
   ]
  }
 ],
 "metadata": {
  "kernelspec": {
   "display_name": "Python 3",
   "language": "python",
   "name": "python3"
  },
  "language_info": {
   "codemirror_mode": {
    "name": "ipython",
    "version": 3
   },
   "file_extension": ".py",
   "mimetype": "text/x-python",
   "name": "python",
   "nbconvert_exporter": "python",
   "pygments_lexer": "ipython3",
   "version": "3.12.2"
  }
 },
 "nbformat": 4,
 "nbformat_minor": 2
}
