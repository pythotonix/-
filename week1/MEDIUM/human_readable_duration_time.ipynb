{
 "cells": [
  {
   "cell_type": "markdown",
   "metadata": {},
   "source": [
    "# [ Human readable duration format](https://www.codewars.com/kata/52742f58faf5485cae000b9a/train/python)"
   ]
  },
  {
   "cell_type": "markdown",
   "metadata": {},
   "source": [
    "Мій розв'язок"
   ]
  },
  {
   "cell_type": "code",
   "execution_count": null,
   "metadata": {},
   "outputs": [],
   "source": [
    "def format_duration(seconds):\n",
    "    if seconds == 0:\n",
    "        return 'now'\n",
    "    res = ''\n",
    "    time_dict = {}\n",
    "    next_unit = seconds\n",
    "    for i in range(5):\n",
    "        if i == 0:\n",
    "            cur_str = 'second'\n",
    "            div = 60\n",
    "        elif i == 1:\n",
    "            cur_str = 'minute'\n",
    "            div = 60\n",
    "        elif i == 2:\n",
    "            cur_str = 'hour'\n",
    "            div = 24\n",
    "        elif i == 3:\n",
    "            cur_str = 'day'\n",
    "            div = 365\n",
    "        else:\n",
    "            if next_unit == 0:\n",
    "                continue\n",
    "            cur_str = 'years' if next_unit > 1 else 'year'\n",
    "            time_dict[cur_str] = next_unit\n",
    "            break\n",
    "\n",
    "        next_unit, cur = divmod(next_unit, div)\n",
    "\n",
    "        if cur == 0:\n",
    "            continue\n",
    "\n",
    "        if cur > 1:\n",
    "            cur_str += 's'\n",
    "\n",
    "        time_dict[cur_str] = cur\n",
    "\n",
    "    i = len(time_dict)\n",
    "    time_dict = dict(reversed(list(time_dict.items())))\n",
    "    for time_str, time in time_dict.items():\n",
    "        sep = ', ' if i > 1 else ' and '\n",
    "        res += f'{sep if i != len(time_dict) else \"\"}{time} {time_str}'\n",
    "        i -= 1\n",
    "\n",
    "    return res\n",
    "\n",
    "#Time: 486ms\n",
    "#passed 113 out of 113"
   ]
  },
  {
   "cell_type": "markdown",
   "metadata": {},
   "source": [
    "# CodeWhisperer"
   ]
  },
  {
   "cell_type": "markdown",
   "metadata": {},
   "source": [
    "Наступний запит написала у чаті (не автозаповнення):\n",
    "\n",
    "Write a function format_duration(seconds) that solves a following problem:\n",
    "\n",
    "write a function which formats a duration, given as a number of seconds, in a human-friendly way.\n",
    "\n",
    "The function must accept a non-negative integer. If it is zero, it just returns \"now\". Otherwise, the duration is expressed as a combination of years, days, hours, minutes and seconds.\n",
    "\n",
    "It is much easier to understand with an example:\n",
    "\n",
    "For seconds = 62, your function should return \"1 minute and 2 seconds\"\n",
    "For seconds = 3662, your function should return \"1 hour, 1 minute and 2 seconds\" For the purpose of this problem, a year is 365 days and a day is 24 hours.\n",
    "Note that spaces are important.\n",
    "\n",
    "Detailed rules\n",
    "The resulting expression is made of components like 4 seconds, 1 year, etc. In general, a positive integer and one of the valid units of time, separated by a space. The unit of time is used in plural if the integer is greater than 1.\n",
    "\n",
    "The components are separated by a comma and a space (\", \"). Except the last component, which is separated by \" and \", just like it would be written in English.\n",
    "\n",
    "A more significant units of time will occur before than a least significant one. Therefore, 1 second and 1 year is not correct, but 1 year and 1 second is.\n",
    "\n",
    "Different components have different unit of times. So there is not repeated units like in 5 seconds and 1 second.\n",
    "\n",
    "A component will not appear at all if its value happens to be zero. Hence, 1 minute and 0 seconds is not valid, but it should be just 1 minute.\n",
    "\n",
    "A unit of time must be used \"as much as possible\". It means that the function should not return 61 seconds, but 1 minute and 1 second instead. Formally, the duration specified by of a component must not be greater than any valid more significant unit of time."
   ]
  },
  {
   "cell_type": "code",
   "execution_count": 1,
   "metadata": {},
   "outputs": [],
   "source": [
    "import math\n",
    "\n",
    "def format_duration(seconds):\n",
    "  times = {\n",
    "    'year': 31536000, \n",
    "    'day': 86400,\n",
    "    'hour': 3600, \n",
    "    'minute': 60,\n",
    "    'second': 1\n",
    "  }\n",
    "\n",
    "  if seconds == 0:\n",
    "    return \"now\"\n",
    "\n",
    "  parts = []\n",
    "\n",
    "  for unit, seconds_in_unit in times.items():\n",
    "    value = math.floor(seconds / seconds_in_unit)\n",
    "    if value > 0:\n",
    "      parts.append(\"{} {}\".format(value, unit if value > 1 else unit))\n",
    "      seconds -= value * seconds_in_unit\n",
    "\n",
    "  parts[-1] = parts[-1].replace(\" and\", \"\")\n",
    "\n",
    "  return \", \".join(parts)\n",
    "\n",
    "#IndexError: list index out of range\n",
    "#passed 1 out of 13"
   ]
  },
  {
   "cell_type": "markdown",
   "metadata": {},
   "source": [
    "Наступний запит написала у коментарях файлу (автозаповнення):\n",
    "\n",
    "\\# Write a function format_duration(seconds) which formats a duration, given as a number of seconds, in a human-friendly way.\n",
    "\n",
    "\\# The function must accept a non-negative integer. If it is zero, it just returns \"now\". Otherwise, the duration is expressed as a combination of years, days, hours, minutes and seconds.\n",
    "\n",
    "\\# It is much easier to understand with an example:\n",
    "\n",
    "\\# For seconds = 62, your function should return \"1 minute and 2 seconds\"\n",
    "\\# For seconds = 3662, your function should return \"1 hour, 1 minute and 2 seconds\"\n",
    "\\# For the purpose of this problem, a year is 365 days and a day is 24 hours.\n",
    "\\# Note that spaces are important.\n",
    "\n",
    "\\# Detailed rules\n",
    "\\# The resulting expression is made of components like 4 seconds, 1 year, etc. In general, a positive integer and one of the valid units of time, separated by a space. The unit of time is used in plural if the integer is greater than 1.\n",
    "\n",
    "\\# The components are separated by a comma and a space (\", \"). Except the last component, which is separated by \" and \", just like it would be written in English.\n",
    "\n",
    "\\# A more significant units of time will occur before than a least significant one. Therefore, 1 second and 1 year is not correct, but 1 year and 1 second is.\n",
    "\n",
    "\\# Different components have different unit of times. So there is not repeated units like in 5 seconds and 1 second.\n",
    "\n",
    "\\# A component will not appear at all if its value happens to be zero. Hence, 1 minute and 0 seconds is not valid, but it should be just 1 minute.\n",
    "\n",
    "\\# A unit of time must be used \"as much as possible\". It means that the function should not return 61 seconds, but 1 minute and 1 second instead. Formally, the duration specified by of a component must not be greater than any valid more significant unit of time."
   ]
  },
  {
   "cell_type": "code",
   "execution_count": null,
   "metadata": {},
   "outputs": [],
   "source": [
    "def format_duration(seconds):\n",
    "    if seconds == 0:\n",
    "        return 'now'\n",
    "    else:\n",
    "        years = seconds // 31536000\n",
    "        days = (seconds % 31536000) // 86400\n",
    "        hours = (seconds % 86400) // 3600\n",
    "        minutes = (seconds % 3600) // 60\n",
    "        seconds = seconds % 60\n",
    "        time = [years, days, hours, minutes, seconds]\n",
    "        time_units = ['year', 'day', 'hour', 'minute', 'second']\n",
    "        result = []\n",
    "        for i in range(len(time)):\n",
    "            if time[i] > 0:\n",
    "                result.append(str(time[i]) + ' ' + time_units[i] + ('s' if time[i] > 1 else ''))\n",
    "        return ', '.join(result[:-1]) + ' and ' + result[-1]\n",
    "\n",
    "#passed 10 out of 13"
   ]
  },
  {
   "cell_type": "markdown",
   "metadata": {},
   "source": [
    "Додала коментар щодо тестів, які фейлились:\n",
    "\n",
    "\\# Keep in mind that expression may consist only of one component. For example \"1 second\", \"2 minutes\", \"1 hour\" etc."
   ]
  },
  {
   "cell_type": "code",
   "execution_count": null,
   "metadata": {},
   "outputs": [],
   "source": [
    "def format_duration(seconds):\n",
    "    if seconds == 0:\n",
    "        return 'now'\n",
    "    else:\n",
    "        years = seconds // 31536000\n",
    "        days = (seconds % 31536000) // 86400\n",
    "        hours = (seconds % 86400) // 3600\n",
    "        minutes = (seconds % 3600) // 60\n",
    "        seconds = seconds % 60\n",
    "        time = [years, days, hours, minutes, seconds]\n",
    "        time_units = ['year', 'day', 'hour', 'minute', 'second']\n",
    "        result = []\n",
    "        for i in range(len(time)):\n",
    "            if time[i] > 0:\n",
    "                result.append(str(time[i]) + ' ' + time_units[i] + ('s' if time[i] > 1 else ''))\n",
    "        if len(result) == 1:\n",
    "            return result[0]\n",
    "        return ', '.join(result[:-1]) + ' and ' + result[-1]\n",
    "    \n",
    "#Time: 474ms\n",
    "#passed 113 out of 113"
   ]
  },
  {
   "cell_type": "markdown",
   "metadata": {},
   "source": [
    "# Codeium"
   ]
  },
  {
   "cell_type": "markdown",
   "metadata": {},
   "source": [
    "Write a function format_duration(seconds) which formats a duration, given as a number of seconds, in a human-friendly way in python. The function must accept a non-negative integer. If it is zero, it just returns \"now\". Otherwise, the duration is expressed as a combination of years, days, hours, minutes and seconds. It is much easier to understand with an example:\n",
    "\n",
    "For seconds = 62, your function should return \"1 minute and 2 seconds\"\n",
    "For seconds = 3662, your function should return \"1 hour, 1 minute and 2 seconds\" For the purpose of this problem, a year is 365 days and a day is 24 hours. Note that spaces are important. Detailed rules The resulting expression is made of components like 4 seconds, 1 year, etc. In general, a positive integer and one of the valid units of time, separated by a space. The unit of time is used in plural if the integer is greater than 1. The components are separated by a comma and a space (\", \"). Except the last component, which is separated by \" and \", just like it would be written in English. A more significant units of time will occur before than a least significant one. Therefore, 1 second and 1 year is not correct, but 1 year and 1 second is. Different components have different unit of times. So there is not repeated units like in 5 seconds and 1 second. A component will not appear at all if its value happens to be zero. Hence, 1 minute and 0 seconds is not valid, but it should be just 1 minute. A unit of time must be used \"as much as possible\". It means that the function should not return 61 seconds, but 1 minute and 1 second instead. Formally, the duration specified by of a component must not be greater than any valid more significant unit of time."
   ]
  },
  {
   "cell_type": "code",
   "execution_count": null,
   "metadata": {},
   "outputs": [],
   "source": [
    "def format_duration(seconds):\n",
    "    if seconds == 0:\n",
    "        return \"now\"\n",
    "\n",
    "    time_units = [(\"year\", 365 * 24 * 60 * 60), (\"day\", 24 * 60 * 60), (\"hour\", 60 * 60), (\"minute\", 60), (\"second\", 1)]\n",
    "    \n",
    "    result = []\n",
    "    \n",
    "    for unit, time_in_seconds in time_units:\n",
    "        value = seconds // time_in_seconds\n",
    "        if value:\n",
    "            result.append(f\"{value} {unit}{'s' if value > 1 else ''}\")\n",
    "            seconds %= time_in_seconds\n",
    "    \n",
    "    return ', '.join(result[:-1]) + ' and ' + result[-1] if len(result) > 1 else result[0]\n",
    "\n",
    "#Time: 503ms\n",
    "#passed 113 out of 113"
   ]
  }
 ],
 "metadata": {
  "kernelspec": {
   "display_name": "Python 3",
   "language": "python",
   "name": "python3"
  },
  "language_info": {
   "codemirror_mode": {
    "name": "ipython",
    "version": 3
   },
   "file_extension": ".py",
   "mimetype": "text/x-python",
   "name": "python",
   "nbconvert_exporter": "python",
   "pygments_lexer": "ipython3",
   "version": "3.11.5"
  }
 },
 "nbformat": 4,
 "nbformat_minor": 2
}
