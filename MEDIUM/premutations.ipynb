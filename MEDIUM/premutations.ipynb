{
 "cells": [
  {
   "cell_type": "markdown",
   "metadata": {},
   "source": [
    "## Permutations"
   ]
  },
  {
   "cell_type": "markdown",
   "metadata": {},
   "source": [
    "[link to the problem](https://leetcode.com/problems/permutations/description/)"
   ]
  },
  {
   "cell_type": "markdown",
   "metadata": {},
   "source": [
    "## Codeium"
   ]
  },
  {
   "cell_type": "markdown",
   "metadata": {},
   "source": [
    "T: (sent link to the problem)\n",
    "\n",
    "C: To solve the problem \"Permutations\" on LeetCode, you can use the following Python code:"
   ]
  },
  {
   "cell_type": "code",
   "execution_count": null,
   "metadata": {},
   "outputs": [],
   "source": [
    "from itertools import permutations\n",
    "\n",
    "def permute(nums):\n",
    "    return list(permutations(nums))"
   ]
  },
  {
   "cell_type": "markdown",
   "metadata": {},
   "source": [
    "Runtime 24 ms\n",
    "\n",
    "*Beats 32.32% of users with Python*\n",
    "\n",
    "Memory 11.79 MB\n",
    "\n",
    "*Beats 76.34% of users with Python*"
   ]
  },
  {
   "cell_type": "markdown",
   "metadata": {},
   "source": [
    "T: write solution without using itertools module\n",
    "\n",
    "C: To solve the \"Permutations\" problem on LeetCode without using the itertools module, you can implement a backtracking algorithm. Here's the Python code for generating permutations without itertools:"
   ]
  },
  {
   "cell_type": "code",
   "execution_count": null,
   "metadata": {},
   "outputs": [],
   "source": [
    "def permute(nums):\n",
    "    def backtrack(current_permutation, remaining_nums):\n",
    "        if not remaining_nums:\n",
    "            result.append(current_permutation)\n",
    "        \n",
    "        for i in range(len(remaining_nums)):\n",
    "            backtrack(current_permutation + [remaining_nums[i]], remaining_nums[:i] + remaining_nums[i+1:])\n",
    "    \n",
    "    result = []\n",
    "    backtrack([], nums)\n",
    "    return result"
   ]
  },
  {
   "cell_type": "markdown",
   "metadata": {},
   "source": [
    "Runtime 15 ms\n",
    "\n",
    "*Beats 91.41% of users with Python*\n",
    "\n",
    "Memory 11.96 MB\n",
    "\n",
    "*Beats 18.43% of users with Python*"
   ]
  },
  {
   "cell_type": "markdown",
   "metadata": {},
   "source": [
    "T: Can you optimize this code?\n",
    "\n",
    "C: To optimize the code for generating permutations without using the itertools module, you can avoid unnecessary list concatenation by passing indices instead of slicing the remaining numbers. Here's an optimized version of the code:"
   ]
  },
  {
   "cell_type": "code",
   "execution_count": null,
   "metadata": {},
   "outputs": [],
   "source": [
    "def permute(nums):\n",
    "    def backtrack(current_permutation, remaining_nums):\n",
    "        if not remaining_nums:\n",
    "            result.append(current_permutation[:])\n",
    "            return\n",
    "        \n",
    "        for i in range(len(remaining_nums)):\n",
    "            current_permutation.append(remaining_nums[i])\n",
    "            backtrack(current_permutation, remaining_nums[:i] + remaining_nums[i+1:])\n",
    "            current_permutation.pop()\n",
    "    \n",
    "    result = []\n",
    "    backtrack([], nums)\n",
    "    return result"
   ]
  },
  {
   "cell_type": "markdown",
   "metadata": {},
   "source": [
    "Runtime 15 ms\n",
    "\n",
    "*Beats 91.41% of users with Python*\n",
    "\n",
    "Memory 11.79 MB\n",
    "\n",
    "*Beats 76.34% of users with Python*"
   ]
  },
  {
   "cell_type": "markdown",
   "metadata": {},
   "source": [
    "## CodeWhisperer"
   ]
  },
  {
   "cell_type": "markdown",
   "metadata": {},
   "source": [
    "T: (sent link to the problem)\n",
    "\n",
    "C: Here is a Python solution to the problem of generating all permutations of a string or list on LeetCode:"
   ]
  },
  {
   "cell_type": "code",
   "execution_count": null,
   "metadata": {},
   "outputs": [],
   "source": [
    "class Solution(object):\n",
    "    def permute(self, nums):\n",
    "        permutations = []\n",
    "        \n",
    "        def backtrack(first = 0):\n",
    "            if first == len(nums):\n",
    "                permutations.append(nums[:])\n",
    "                return\n",
    "            \n",
    "            for i in range(first, len(nums)):\n",
    "                nums[first], nums[i] = nums[i], nums[first]\n",
    "                backtrack(first + 1)\n",
    "                nums[first], nums[i] = nums[i], nums[first]\n",
    "\n",
    "        backtrack()\n",
    "        return permutations"
   ]
  },
  {
   "cell_type": "markdown",
   "metadata": {},
   "source": [
    "Runtime 23 ms\n",
    "\n",
    "*Beats 42.09% of users with Python*\n",
    "\n",
    "Memory 11.92 MB\n",
    "\n",
    "*Beats 18.43% of users with Python*"
   ]
  },
  {
   "cell_type": "markdown",
   "metadata": {},
   "source": [
    "T: Can you optimize this code?\n",
    "\n",
    "C: This would look like:"
   ]
  },
  {
   "cell_type": "code",
   "execution_count": null,
   "metadata": {},
   "outputs": [],
   "source": [
    "class Solution(object):\n",
    "    def permute(self, nums):\n",
    "        permutations = set()\n",
    "\n",
    "        def backtrack(first):\n",
    "            if first == len(nums)-1:\n",
    "                permutations.add(tuple(nums))\n",
    "                return\n",
    "            \n",
    "            for i in range(first, len(nums)):\n",
    "                nums[first], nums[i] = nums[i], nums[first]  \n",
    "                backtrack(first+1)\n",
    "                nums[first], nums[i] = nums[i], nums[first]\n",
    "\n",
    "        backtrack(0)\n",
    "        return permutations"
   ]
  },
  {
   "cell_type": "markdown",
   "metadata": {},
   "source": [
    "Runtime 26 ms\n",
    "\n",
    "*Beats 21.37% of users with Python*\n",
    "\n",
    "Memory 11.83 MB\n",
    "\n",
    "*Beats 45.42% of users with Python*"
   ]
  }
 ],
 "metadata": {
  "language_info": {
   "name": "python"
  }
 },
 "nbformat": 4,
 "nbformat_minor": 2
}
