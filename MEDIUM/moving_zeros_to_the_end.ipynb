{
 "cells": [
  {
   "cell_type": "markdown",
   "metadata": {},
   "source": [
    "## Moving Zeros To The End"
   ]
  },
  {
   "cell_type": "markdown",
   "metadata": {},
   "source": [
    "[link to the problem](https://www.codewars.com/kata/52597aa56021e91c93000cb0/)"
   ]
  },
  {
   "cell_type": "markdown",
   "metadata": {},
   "source": [
    "## Codeium"
   ]
  },
  {
   "cell_type": "markdown",
   "metadata": {},
   "source": [
    "Me:"
   ]
  },
  {
   "cell_type": "code",
   "execution_count": null,
   "metadata": {},
   "outputs": [],
   "source": [
    "def move_zeros(lst):\n",
    "    \"\"\"\n",
    "    Write an algorithm that takes an array and moves all of the zeros to the end, preserving the order of the other elements.\n",
    "\n",
    "    move_zeros([1, 0, 1, 2, 0, 1, 3]) # returns [1, 1, 2, 1, 3, 0, 0]\n",
    "    \"\"\""
   ]
  },
  {
   "cell_type": "markdown",
   "metadata": {},
   "source": [
    "Codeium:"
   ]
  },
  {
   "cell_type": "code",
   "execution_count": null,
   "metadata": {},
   "outputs": [],
   "source": [
    "def move_zeros(lst):\n",
    "    \"\"\"\n",
    "    Write an algorithm that takes an array and moves all of the zeros to the end, preserving the order of the other elements.\n",
    "\n",
    "    move_zeros([1, 0, 1, 2, 0, 1, 3]) # returns [1, 1, 2, 1, 3, 0, 0]\n",
    "    \"\"\"\n",
    "    return [x for x in lst if x != 0] + [x for x in lst if x == 0]"
   ]
  },
  {
   "cell_type": "markdown",
   "metadata": {},
   "source": [
    "Time: 485ms Passed: 171 Failed: 0"
   ]
  },
  {
   "cell_type": "markdown",
   "metadata": {},
   "source": [
    "Me:\n",
    "Write an algorithm that takes an array and moves all of the zeros to the end, preserving the order of the other elements.\n",
    "\n",
    "move_zeros([1, 0, 1, 2, 0, 1, 3]) # returns [1, 1, 2, 1, 3, 0, 0]\n",
    "\n",
    "def move_zeros(lst):"
   ]
  },
  {
   "cell_type": "markdown",
   "metadata": {},
   "source": [
    "Codeium:\n",
    "You can achieve this by iterating through the array, collecting the non-zero elements first, and then appending the zeros to the end based on the count of zeros in the original array. Here's a simple algorithm in Python:"
   ]
  },
  {
   "cell_type": "code",
   "execution_count": null,
   "metadata": {},
   "outputs": [],
   "source": [
    "def move_zeros(lst):\n",
    "    non_zeros = [num for num in lst if num != 0]\n",
    "    zeros_count = len(lst) - len(non_zeros)\n",
    "    return non_zeros + [0] * zeros_count"
   ]
  },
  {
   "cell_type": "markdown",
   "metadata": {},
   "source": [
    "Time: 488ms Passed: 171Failed: 0"
   ]
  },
  {
   "cell_type": "markdown",
   "metadata": {},
   "source": [
    "This algorithm creates a new list non_zeros containing all elements from the original list lst that are not equal to 0. Then it calculates the number of zeros in the original list and appends that many zeros to the end."
   ]
  },
  {
   "cell_type": "markdown",
   "metadata": {},
   "source": [
    "Me:"
   ]
  },
  {
   "cell_type": "code",
   "execution_count": null,
   "metadata": {},
   "outputs": [],
   "source": [
    "def move_zeros(lst):\n",
    "    \"\"\"\n",
    "    https://www.codewars.com/kata/52597aa56021e91c93000cb0/train/python\n",
    "    \"\"\""
   ]
  },
  {
   "cell_type": "markdown",
   "metadata": {},
   "source": [
    "Codeium:"
   ]
  },
  {
   "cell_type": "code",
   "execution_count": null,
   "metadata": {},
   "outputs": [],
   "source": [
    "def move_zeros(lst):\n",
    "    \"\"\"\n",
    "    https://www.codewars.com/kata/52597aa56021e91c93000cb0/train/python\n",
    "    \"\"\"\n",
    "    lst.sort(key=lambda x: x == 0 and type(x) is not bool)\n",
    "    return lst"
   ]
  },
  {
   "cell_type": "markdown",
   "metadata": {},
   "source": [
    "Time: 485ms Passed: 171 Failed: 0"
   ]
  },
  {
   "cell_type": "markdown",
   "metadata": {},
   "source": [
    "## Codewhisperer"
   ]
  },
  {
   "cell_type": "markdown",
   "metadata": {},
   "source": [
    "Me:"
   ]
  },
  {
   "cell_type": "code",
   "execution_count": null,
   "metadata": {},
   "outputs": [],
   "source": [
    "def move_zeros(lst):\n",
    "    \"\"\"\n",
    "    Write an algorithm that takes an array and moves all of the zeros to the end, preserving the order of the other elements.\n",
    "\n",
    "    move_zeros([1, 0, 1, 2, 0, 1, 3]) # returns [1, 1, 2, 1, 3, 0, 0]\n",
    "    \"\"\""
   ]
  },
  {
   "cell_type": "markdown",
   "metadata": {},
   "source": [
    "Codewhisperer:"
   ]
  },
  {
   "cell_type": "code",
   "execution_count": null,
   "metadata": {},
   "outputs": [],
   "source": [
    "def move_zeros(lst):\n",
    "    \"\"\"\n",
    "    Write an algorithm that takes an array and moves all of the zeros to the end, preserving the order of the other elements.\n",
    "\n",
    "    move_zeros([1, 0, 1, 2, 0, 1, 3]) # returns [1, 1, 2, 1, 3, 0, 0]\n",
    "    \"\"\"\n",
    "    return [x for x in lst if x != 0] + [x for x in lst if x == 0]"
   ]
  },
  {
   "cell_type": "markdown",
   "metadata": {},
   "source": [
    "Time: 547ms Passed: 171 Failed: 0"
   ]
  },
  {
   "cell_type": "markdown",
   "metadata": {},
   "source": [
    "Me:\n",
    "Write an algorithm that takes an array and moves all of the zeros to the end, preserving the order of the other elements.\n",
    "\n",
    "move_zeros([1, 0, 1, 2, 0, 1, 3]) # returns [1, 1, 2, 1, 3, 0, 0]\n",
    "\n",
    "def move_zeros(lst):"
   ]
  },
  {
   "cell_type": "markdown",
   "metadata": {},
   "source": [
    "CodeWhisper:\n",
    "Here is one way to write an algorithm to move all the zeros to the end of the array while preserving the order of the other elements:"
   ]
  },
  {
   "cell_type": "code",
   "execution_count": null,
   "metadata": {},
   "outputs": [],
   "source": [
    "def move_zeros(lst):\n",
    "    non_zeros = []\n",
    "    zeros = []\n",
    "\n",
    "    for element in lst:\n",
    "        if element != 0:\n",
    "            non_zeros.append(element)\n",
    "        else:\n",
    "            zeros.append(element)\n",
    "\n",
    "    return non_zeros + zeros"
   ]
  },
  {
   "cell_type": "markdown",
   "metadata": {},
   "source": [
    "Time: 490ms Passed: 171 Failed: 0"
   ]
  },
  {
   "cell_type": "markdown",
   "metadata": {},
   "source": [
    "This algorithm iterates through the input list, separates the non-zero elements from the zero elements into two separate lists, then concatenates the lists and returns the result. This preserves the relative order of the non-zero elements while shifting all zeros to the end of the array.\n",
    "\n",
    "Let me know if you have any other questions!"
   ]
  },
  {
   "cell_type": "markdown",
   "metadata": {},
   "source": [
    "Me:"
   ]
  },
  {
   "cell_type": "code",
   "execution_count": null,
   "metadata": {},
   "outputs": [],
   "source": [
    "def move_zeros(lst):\n",
    "    \"\"\"\n",
    "    https://www.codewars.com/kata/52597aa56021e91c93000cb0/train/python\n",
    "    \"\"\""
   ]
  },
  {
   "cell_type": "markdown",
   "metadata": {},
   "source": [
    "Codewhisperer:"
   ]
  },
  {
   "cell_type": "code",
   "execution_count": null,
   "metadata": {},
   "outputs": [],
   "source": [
    "def move_zeros(lst):\n",
    "    \"\"\"\n",
    "    https://www.codewars.com/kata/52597aa56021e91c93000cb0/train/python\n",
    "    \"\"\"\n",
    "    return [x for x in lst if x != 0] + [x for x in lst if x == 0]"
   ]
  }
 ],
 "metadata": {
  "language_info": {
   "name": "python"
  }
 },
 "nbformat": 4,
 "nbformat_minor": 2
}
