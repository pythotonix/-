{
 "cells": [
  {
   "cell_type": "markdown",
   "metadata": {},
   "source": [
    "## Sudoku Solver"
   ]
  },
  {
   "cell_type": "markdown",
   "metadata": {},
   "source": [
    "[Умова задачі](https://leetcode.com/problems/sudoku-solver/)\n"
   ]
  },
  {
   "cell_type": "markdown",
   "metadata": {},
   "source": [
    "#### Codium Response "
   ]
  },
  {
   "cell_type": "markdown",
   "metadata": {},
   "source": [
    "Перший запит:\n",
    "*solve the task by folloving link https://leetcode.com/problems/sudoku-solver/description/*"
   ]
  },
  {
   "cell_type": "markdown",
   "metadata": {},
   "source": [
    "##### Відповідь"
   ]
  },
  {
   "cell_type": "code",
   "execution_count": null,
   "metadata": {},
   "outputs": [],
   "source": [
    "class Solution(object):\n",
    "\n",
    "    def solveSudoku(delf, board):\n",
    "        def is_valid(row, col, num):\n",
    "            for i in range(9):\n",
    "                if board[row][i] == num or board[i][col] == num or board[3 * (row // 3) + i // 3][3 * (col // 3) + i % 3] == num:\n",
    "                    return False\n",
    "            return True\n",
    "\n",
    "        def solve():\n",
    "            for i in range(9):\n",
    "                for j in range(9):\n",
    "                    if board[i][j] == '.':\n",
    "                        for num in '123456789':\n",
    "                            if is_valid(i, j, num):\n",
    "                                board[i][j] = num\n",
    "                                if solve():\n",
    "                                    return True\n",
    "                                board[i][j] = '.'\n",
    "                        return False\n",
    "            return True\n",
    "\n",
    "        solve()\n",
    "        "
   ]
  },
  {
   "cell_type": "markdown",
   "metadata": {},
   "source": [
    "Перша відповідь пройшла усі тести "
   ]
  },
  {
   "cell_type": "markdown",
   "metadata": {},
   "source": [
    "Наступний запит: *Try to optimize the solution to O(n^2) complexity*"
   ]
  },
  {
   "cell_type": "markdown",
   "metadata": {},
   "source": [
    "##### Відповідь"
   ]
  },
  {
   "cell_type": "code",
   "execution_count": null,
   "metadata": {},
   "outputs": [],
   "source": [
    "class Solution(object):\n",
    "    def solveSudoku(self, board):\n",
    "        def solve():\n",
    "            for i in range(9):\n",
    "                for j in range(9):\n",
    "                    if board[i][j] == '.':\n",
    "                        for num in '123456789':\n",
    "                            if num not in rows[i] and num not in cols[j] and num not in subgrids[i // 3][j // 3]:\n",
    "                                board[i][j] = num\n",
    "                                rows[i].add(num)\n",
    "                                cols[j].add(num)\n",
    "                                subgrids[i // 3][j // 3].add(num)\n",
    "                                if solve():\n",
    "                                    return True\n",
    "                                board[i][j] = '.'\n",
    "                                rows[i].remove(num)\n",
    "                                cols[j].remove(num)\n",
    "                                subgrids[i // 3][j // 3].remove(num)\n",
    "                        return False\n",
    "            return True\n",
    "\n",
    "        rows = [set() for _ in range(9)]\n",
    "        cols = [set() for _ in range(9)]\n",
    "        subgrids = [[set() for _ in range(3)] for _ in range(3)]\n",
    "\n",
    "        for i in range(9):\n",
    "            for j in range(9):\n",
    "                if board[i][j] != '.':\n",
    "                    rows[i].add(board[i][j])\n",
    "                    cols[j].add(board[i][j])\n",
    "                    subgrids[i // 3][j // 3].add(board[i][j])\n",
    "\n",
    "        solve()\n",
    "        "
   ]
  },
  {
   "cell_type": "markdown",
   "metadata": {},
   "source": [
    "Codeium оптимізував код, від алгоритму O(n^3) до O(n^2)"
   ]
  },
  {
   "cell_type": "markdown",
   "metadata": {},
   "source": [
    "####  Codewhisperer Response "
   ]
  },
  {
   "cell_type": "code",
   "execution_count": 1,
   "metadata": {},
   "outputs": [],
   "source": [
    "# Write a program to solve a Sudoku puzzle by filling the empty cells.\n",
    "\n",
    "# A sudoku solution must satisfy all of the following rules:\n",
    "\n",
    "# Each of the digits 1-9 must occur exactly once in each row.\n",
    "# Each of the digits 1-9 must occur exactly once in each column.\n",
    "# Each of the digits 1-9 must occur exactly once in each of the 9 3x3 sub-boxes of the grid.\n",
    "# The '.' character indicates empty cells.\n",
    "# Input: board = [[\"5\",\"3\",\".\",\".\",\"7\",\".\",\".\",\".\",\".\"],[\"6\",\".\",\".\",\"1\",\"9\",\"5\",\".\",\".\",\".\"],[\".\",\"9\",\"8\",\".\",\".\",\".\",\".\",\"6\",\".\"],[\"8\",\".\",\".\",\".\",\"6\",\".\",\".\",\".\",\"3\"],[\"4\",\".\",\".\",\"8\",\".\",\"3\",\".\",\".\",\"1\"],[\"7\",\".\",\".\",\".\",\"2\",\".\",\".\",\".\",\"6\"],[\".\",\"6\",\".\",\".\",\".\",\".\",\"2\",\"8\",\".\"],[\".\",\".\",\".\",\"4\",\"1\",\"9\",\".\",\".\",\"5\"],[\".\",\".\",\".\",\".\",\"8\",\".\",\".\",\"7\",\"9\"]]\n",
    "# Output: [[\"5\",\"3\",\"4\",\"6\",\"7\",\"8\",\"9\",\"1\",\"2\"],[\"6\",\"7\",\"2\",\"1\",\"9\",\"5\",\"3\",\"4\",\"8\"],[\"1\",\"9\",\"8\",\"3\",\"4\",\"2\",\"5\",\"6\",\"7\"],[\"8\",\"5\",\"9\",\"7\",\"6\",\"1\",\"4\",\"2\",\"3\"],[\"4\",\"2\",\"6\",\"8\",\"5\",\"3\",\"7\",\"9\",\"1\"],[\"7\",\"1\",\"3\",\"9\",\"2\",\"4\",\"8\",\"5\",\"6\"],[\"9\",\"6\",\"1\",\"5\",\"3\",\"7\",\"2\",\"8\",\"4\"],[\"2\",\"8\",\"7\",\"4\",\"1\",\"9\",\"6\",\"3\",\"5\"],[\"3\",\"4\",\"5\",\"2\",\"8\",\"6\",\"1\",\"7\",\"9\"]]\n",
    "\n",
    "def solveSudoku(board):\n",
    "    \"\"\"\n",
    "    :type board: List[List[str]]\n",
    "    :rtype: void Do not return anything, modify board in-place instead.\n",
    "    \"\"\"\n",
    "    def solve(board):\n",
    "        for i in range(9):\n",
    "            for j in range(9):\n",
    "                if board[i][j] == '.':\n",
    "                    for c in '123456789':\n",
    "                        if isValid(board, i, j, c):\n",
    "                            board[i][j] = c\n",
    "                            if solve(board):\n",
    "                                return True\n",
    "                            else:\n",
    "                                board[i][j] = '.'\n",
    "                    return False\n",
    "        return True\n",
    "\n",
    "    def isValid(board, row, col, c):\n",
    "        for i in range(9):\n",
    "            if board[i][col] == c:\n",
    "                return False\n",
    "            if board[row][i] == c:\n",
    "                return False\n",
    "            if board[3 * (row // 3) + i // 3][ 3 * (col // 3) + i % 3] == c:\n",
    "                return False\n",
    "        return True\n",
    "\n",
    "    solve(board)\n",
    "    return board\n",
    "# wrong answer for following input\n",
    "board = [[\"5\",\"3\",\".\",\".\",\"7\",\".\",\".\",\".\",\".\"],[\"6\",\".\",\".\",\"1\",\"9\",\"5\",\".\",\".\",\".\"],[\".\",\"9\",\"8\",\".\",\".\",\".\",\".\",\"6\",\".\"],[\"8\",\".\",\".\",\".\",\"6\",\".\",\".\",\".\",\"3\"],[\"4\",\".\",\".\",\"8\",\".\",\"3\",\".\",\".\",\"1\"],[\"7\",\".\",\".\",\".\",\"2\",\".\",\".\",\".\",\"6\"],[\".\",\"6\",\".\",\".\",\".\",\".\",\"2\",\"8\",\".\"],[\".\",\".\",\".\",\"4\",\"1\",\"9\",\".\",\".\",\"5\"],[\".\",\".\",\".\",\".\",\"8\",\".\",\".\",\"7\",\"9\"]]\n",
    "output = [[\"5\",\"3\",\".\",\".\",\"7\",\".\",\".\",\".\",\".\"],[\"6\",\".\",\".\",\"1\",\"9\",\"5\",\".\",\".\",\".\"],[\".\",\"9\",\"8\",\".\",\".\",\".\",\".\",\"6\",\".\"],[\"8\",\".\",\".\",\".\",\"6\",\".\",\".\",\".\",\"3\"],[\"4\",\".\",\".\",\"8\",\".\",\"3\",\".\",\".\",\"1\"],[\"7\",\".\",\".\",\".\",\"2\",\".\",\".\",\".\",\"6\"],[\".\",\"6\",\".\",\".\",\".\",\".\",\"2\",\"8\",\".\"],[\".\",\".\",\".\",\"4\",\"1\",\"9\",\".\",\".\",\"5\"],[\".\",\".\",\".\",\".\",\"8\",\".\",\".\",\"7\",\"9\"]]\n",
    "expected = [[\"5\",\"3\",\"4\",\"6\",\"7\",\"8\",\"9\",\"1\",\"2\"],[\"6\",\"7\",\"2\",\"1\",\"9\",\"5\",\"3\",\"4\",\"8\"],[\"1\",\"9\",\"8\",\"3\",\"4\",\"2\",\"5\",\"6\",\"7\"],[\"8\",\"5\",\"9\",\"7\",\"6\",\"1\",\"4\",\"2\",\"3\"],[\"4\",\"2\",\"6\",\"8\",\"5\",\"3\",\"7\",\"9\",\"1\"],[\"7\",\"1\",\"3\",\"9\",\"2\",\"4\",\"8\",\"5\",\"6\"],[\"9\",\"6\",\"1\",\"5\",\"3\",\"7\",\"2\",\"8\",\"4\"],[\"2\",\"8\",\"7\",\"4\",\"1\",\"9\",\"6\",\"3\",\"5\"],[\"3\",\"4\",\"5\",\"2\",\"8\",\"6\",\"1\",\"7\",\"9\"]]\n",
    "# please create another code to solve the task\n",
    "def solveSudoku(board):\n",
    "    \"\"\"\n",
    "    :type board: List[List[str]]\n",
    "    :rtype: void Do not return anything, modify board in-place instead.\n",
    "    \"\"\"\n",
    "    def solve(board):\n",
    "        for i in range(9):\n",
    "            for j in range(9):\n",
    "                if board[i][j] == '.':\n",
    "                    for c in '123456789':\n",
    "                        if isValid(board, i, j, c):\n",
    "                            board[i][j] = c\n",
    "                            if solve(board):\n",
    "                                return True\n",
    "                            else:\n",
    "                                board[i][j] = '.'\n",
    "                    return False\n",
    "        return True\n",
    "\n",
    "    def isValid(board, row, col, c):\n",
    "        for i in range(9):\n",
    "            if board[i][col] == c:\n",
    "                return False\n",
    "            if board[row][i] == c:\n",
    "                return False\n",
    "            if board[3 * (row // 3) + i // 3][ 3 * (col // 3) + i % 3] == c:\n",
    "                return False\n",
    "        return True\n",
    "\n",
    "    solve(board)\n",
    "    return board"
   ]
  },
  {
   "cell_type": "markdown",
   "metadata": {},
   "source": [
    "Останній розв'язок пройшов тести на leetcode"
   ]
  }
 ],
 "metadata": {
  "kernelspec": {
   "display_name": "Python 3",
   "language": "python",
   "name": "python3"
  },
  "language_info": {
   "codemirror_mode": {
    "name": "ipython",
    "version": 3
   },
   "file_extension": ".py",
   "mimetype": "text/x-python",
   "name": "python",
   "nbconvert_exporter": "python",
   "pygments_lexer": "ipython3",
   "version": "3.11.5"
  }
 },
 "nbformat": 4,
 "nbformat_minor": 2
}
