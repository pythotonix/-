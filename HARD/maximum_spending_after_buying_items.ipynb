{
 "cells": [
  {
   "cell_type": "markdown",
   "metadata": {},
   "source": [
    "# [Maximum Spending After Buying Items](https://leetcode.com/problems/maximum-spending-after-buying-items/description/)"
   ]
  },
  {
   "cell_type": "markdown",
   "metadata": {},
   "source": [
    "# Codeium"
   ]
  },
  {
   "cell_type": "markdown",
   "metadata": {},
   "source": [
    "Maximum Spending After Buying Items Write maxSpending(self, values: List[List[int]]) function that solves a following problem:  You are given a 0-indexed m * n integer matrix values, representing the values of m * n different items in m different shops. Each shop has n items where the jth item in the ith shop has a value of values[i][j]. Additionally, the items in the ith shop are sorted in non-increasing order of value. That is, values[i][j] >= values[i][j + 1] for all 0 <= j < n - 1. On each day, you would like to buy a single item from one of the shops. Specifically, On the dth day you can: Pick any shop i. Buy the rightmost available item j for the price of values[i][j] * d. That is, find the greatest index j such that item j was never bought before, and buy it for the price of values[i][j] * d. Note that all items are pairwise different. For example, if you have bought item 0 from shop 1, you can still buy item 0 from any other shop. Return the maximum amount of money that can be spent on buying all m * n products.   Example 1: Input: values = [[8,5,2],[6,4,1],[9,7,3]] Output: 285 Explanation: On the first day, we buy product 2 from shop 1 for a price of values[1][2] * 1 = 1. On the second day, we buy product 2 from shop 0 for a price of values[0][2] * 2 = 4. On the third day, we buy product 2 from shop 2 for a price of values[2][2] * 3 = 9. On the fourth day, we buy product 1 from shop 1 for a price of values[1][1] * 4 = 16. On the fifth day, we buy product 1 from shop 0 for a price of values[0][1] * 5 = 25. On the sixth day, we buy product 0 from shop 1 for a price of values[1][0] * 6 = 36. On the seventh day, we buy product 1 from shop 2 for a price of values[2][1] * 7 = 49. On the eighth day, we buy product 0 from shop 0 for a price of values[0][0] * 8 = 64. On the ninth day, we buy product 0 from shop 2 for a price of values[2][0] * 9 = 81. Hence, our total spending is equal to 285. It can be shown that 285 is the maximum amount of money that can be spent buying all m * n products. Example 2: Input: values = [[10,8,6,4,2],[9,7,5,3,2]] Output: 386 Explanation: On the first day, we buy product 4 from shop 0 for a price of values[0][4] * 1 = 2. On the second day, we buy product 4 from shop 1 for a price of values[1][4] * 2 = 4. On the third day, we buy product 3 from shop 1 for a price of values[1][3] * 3 = 9. On the fourth day, we buy product 3 from shop 0 for a price of values[0][3] * 4 = 16. On the fifth day, we buy product 2 from shop 1 for a price of values[1][2] * 5 = 25. On the sixth day, we buy product 2 from shop 0 for a price of values[0][2] * 6 = 36. On the seventh day, we buy product 1 from shop 1 for a price of values[1][1] * 7 = 49. On the eighth day, we buy product 1 from shop 0 for a price of values[0][1] * 8 = 64 On the ninth day, we buy product 0 from shop 1 for a price of values[1][0] * 9 = 81. On the tenth day, we buy product 0 from shop 0 for a price of values[0][0] * 10 = 100. Hence, our total spending is equal to 386. It can be shown that 386 is the maximum amount of money that can be spent buying all m * n products.   Constraints: 1 <= m == values.length <= 10 1 <= n == values[i].length <= 104 1 <= values[i][j] <= 106 values[i] are sorted in non-increasing order."
   ]
  },
  {
   "cell_type": "code",
   "execution_count": null,
   "metadata": {},
   "outputs": [],
   "source": [
    "from typing import List\n",
    "\n",
    "def maxSpending(self, values: List[List[int]]) -> int:\n",
    "    total_spending = 0\n",
    "    items_bought = set()\n",
    "    for d in range(1, len(values[0]) + 1):\n",
    "        max_price = 0\n",
    "        for shop in values:\n",
    "            for j in range(len(shop)-1, -1, -1):\n",
    "                if j not in items_bought:\n",
    "                    max_price = max(max_price, shop[j] * d)\n",
    "                    break\n",
    "        total_spending += max_price\n",
    "        items_bought.add(shop.index(max_price // d))\n",
    "    return total_spending\n",
    "#Runtime Error\n",
    "# TypeError: Solution.maxSpending() takes 1 positional argument but 2 were given\n",
    "#           ^^^^^^^^^^^^^^^^^^^^^^^^^^^^^^^\n",
    "#     ret = Solution().maxSpending(param_1)\n",
    "# Line 34 in _driver (Solution.py)\n",
    "#     _driver()\n",
    "# Line 45 in <module> (Solution.py)\n"
   ]
  },
  {
   "cell_type": "markdown",
   "metadata": {},
   "source": [
    "ValueError: 4 is not in list ^^^^^^^^^^^^^^^^^^^^^^^^^^ items_bought.add(shop.index(max_price // d)) Line 14 in maxSpending (Solution.py) ^^^^^^^^^^^^^^^^^^^^^^^^^^^^^^^ ret = Solution().maxSpending(param_1) Line 34 in _driver (Solution.py) _driver() Line 45 in (Solution.py)\n",
    "\n",
    "values = [[10,8,6,4,2],[9,7,5,3,2]]"
   ]
  },
  {
   "cell_type": "code",
   "execution_count": null,
   "metadata": {},
   "outputs": [],
   "source": [
    "from typing import List\n",
    "\n",
    "def maxSpending(self, values: List[List[int]]) -> int:\n",
    "    total_spending = 0\n",
    "    items_bought = set()\n",
    "    for d in range(1, len(values[0]) + 1):\n",
    "        max_price = 0\n",
    "        max_price_index = -1\n",
    "        for shop in values:\n",
    "            for j in range(len(shop)-1, -1, -1):\n",
    "                if j not in items_bought and shop[j] * d > max_price:\n",
    "                    max_price = shop[j] * d\n",
    "                    max_price_index = j\n",
    "        total_spending += max_price\n",
    "        items_bought.add(max_price_index)\n",
    "    return total_spending\n",
    "#two basic tests failed"
   ]
  },
  {
   "cell_type": "markdown",
   "metadata": {},
   "source": [
    "Після цього було багато ітерацій, і всі падали на базових тестах. Codeium зациклився. Я почала новий чат і цього разу додала до запиту \"Hint 1\" та \"Hint 2\":\n",
    "\n",
    "Hint 1\n",
    "Iterate on days 1 to m * n.\n",
    "\n",
    "Hint 2\n",
    "On each day, buy the product that minimizes values[i][values[i].length - 1], and pop it from values[i]."
   ]
  },
  {
   "cell_type": "code",
   "execution_count": null,
   "metadata": {},
   "outputs": [],
   "source": [
    "from typing import List\n",
    "\n",
    "class Solution:\n",
    "    def maxSpending(self, values: List[List[int]]) -> int:\n",
    "        m, n = len(values), len(values[0])\n",
    "        result = 0\n",
    "        \n",
    "        for day in range(1, m * n + 1):\n",
    "            min_value = float('inf')\n",
    "            next_shop = -1\n",
    "            for shop in range(m):\n",
    "                if values[shop]:\n",
    "                    if values[shop][-1] < min_value:\n",
    "                        min_value = values[shop][-1]\n",
    "                        next_shop = shop\n",
    "\n",
    "            if next_shop != -1:\n",
    "                result += min_value * day\n",
    "                values[next_shop].pop()\n",
    "        \n",
    "        return result\n",
    "#passed basic tests\n",
    "#accepted for submission\n",
    "#Runtime: 995ms. Beats 16.07% of users with Python3\n",
    "#Memory: 27.59 MB. Beats 84.52% of users with Python3"
   ]
  },
  {
   "cell_type": "markdown",
   "metadata": {},
   "source": [
    "# CodeWhisperer"
   ]
  },
  {
   "cell_type": "markdown",
   "metadata": {},
   "source": [
    "\\# Write maxSpending(self, values) function that returns the maximum amount of money that can be spent buying all m * n products.\n",
    "\\# You are given a 0-indexed m * n integer matrix values, representing the values of m * n different items in m different shops. Each shop has n items where the jth item in the ith shop has a value of values[i][j]. Additionally, the items in the ith shop are sorted in non-increasing order of value. That is, values[i][j] >= values[i][j + 1] for all 0 <= j < n - 1.\n",
    "\n",
    "\\# On each day, you would like to buy a single item from one of the shops. Specifically, On the dth day you can:\n",
    "\n",
    "\\# Pick any shop i.\n",
    "\\# Buy the rightmost available item j for the price of values[i][j] * d. That is, find the greatest index j such that item j was never bought before, and buy it for the price of values[i][j] * d.\n",
    "\\# Note that all items are pairwise different. For example, if you have bought item 0 from shop 1, you can still buy item 0 from any other shop.\n",
    "\n",
    "\\# Return the maximum amount of money that can be spent on buying all m * n products.\n",
    "\n",
    " \n",
    "\n",
    "\\# Example 1:\n",
    "\n",
    "\\# Input: values = [[8,5,2],[6,4,1],[9,7,3]]\n",
    "\\# Output: 285\n",
    "\\# Explanation: On the first day, we buy product 2 from shop 1 for a price of values[1][2] * 1 = 1.\n",
    "\\# On the second day, we buy product 2 from shop 0 for a price of values[0][2] * 2 = 4.\n",
    "\\# On the third day, we buy product 2 from shop 2 for a price of values[2][2] * 3 = 9.\n",
    "\\# On the fourth day, we buy product 1 from shop 1 for a price of values[1][1] * 4 = 16.\n",
    "\\# On the fifth day, we buy product 1 from shop 0 for a price of values[0][1] * 5 = 25.\n",
    "\\# On the sixth day, we buy product 0 from shop 1 for a price of values[1][0] * 6 = 36.\n",
    "\\# On the seventh day, we buy product 1 from shop 2 for a price of values[2][1] * 7 = 49.\n",
    "\\# On the eighth day, we buy product 0 from shop 0 for a price of values[0][0] * 8 = 64.\n",
    "\\# On the ninth day, we buy product 0 from shop 2 for a price of values[2][0] * 9 = 81.\n",
    "\\# Hence, our total spending is equal to 285.\n",
    "\\# It can be shown that 285 is the maximum amount of money that can be spent buying all m * n products. \n",
    "\\# Example 2:\n",
    "\n",
    "\\# Input: values = [[10,8,6,4,2],[9,7,5,3,2]]\n",
    "\\# Output: 386\n",
    "\\# Explanation: On the first day, we buy product 4 from shop 0 for a price of values[0][4] * 1 = 2.\n",
    "\\# On the second day, we buy product 4 from shop 1 for a price of values[1][4] * 2 = 4.\n",
    "\\# On the third day, we buy product 3 from shop 1 for a price of values[1][3] * 3 = 9.\n",
    "\\# On the fourth day, we buy product 3 from shop 0 for a price of values[0][3] * 4 = 16.\n",
    "\\# On the fifth day, we buy product 2 from shop 1 for a price of values[1][2] * 5 = 25.\n",
    "\\# On the sixth day, we buy product 2 from shop 0 for a price of values[0][2] * 6 = 36.\n",
    "\\# On the seventh day, we buy product 1 from shop 1 for a price of values[1][1] * 7 = 49.\n",
    "\\# On the eighth day, we buy product 1 from shop 0 for a price of values[0][1] * 8 = 64\n",
    "\\# On the ninth day, we buy product 0 from shop 1 for a price of values[1][0] * 9 = 81.\n",
    "\\# On the tenth day, we buy product 0 from shop 0 for a price of values[0][0] * 10 = 100.\n",
    "\\# Hence, our total spending is equal to 386.\n",
    "\\# It can be shown that 386 is the maximum amount of money that can be spent buying all m * n products.\n",
    " \n",
    "\n",
    "\\# Constraints:\n",
    "\n",
    "\\# 1 <= m == values.length <= 10\n",
    "\\# 1 <= n == values[i].length <= 104\n",
    "\\# 1 <= values[i][j] <= 106\n",
    "\\# values[i] are sorted in non-increasing order."
   ]
  },
  {
   "cell_type": "code",
   "execution_count": null,
   "metadata": {},
   "outputs": [],
   "source": [
    "def maxSpending(self, values) -> int:\n",
    "    pass\n",
    "#there were only two sugestions for this problem: pass and return 0"
   ]
  },
  {
   "cell_type": "markdown",
   "metadata": {},
   "source": [
    "На той самий запит, але у чаті також не послідувало пропозицій розв'язку задачі"
   ]
  },
  {
   "cell_type": "markdown",
   "metadata": {},
   "source": [
    "\"I apologize, but your request seems to be outside my domain of expertise. However, I'm happy to try discussing related topics that I may have more information on. How can I help further our conversation productively?\""
   ]
  },
  {
   "cell_type": "markdown",
   "metadata": {},
   "source": [
    "Можливий варіант розв'язку:"
   ]
  },
  {
   "cell_type": "code",
   "execution_count": null,
   "metadata": {},
   "outputs": [],
   "source": [
    "class Solution:\n",
    "    def maxSpending(self, values ) -> int:\n",
    "        return sum([(i + 1) * k for i, k in enumerate(sorted(sum(values, [])))])"
   ]
  }
 ],
 "metadata": {
  "language_info": {
   "name": "python"
  }
 },
 "nbformat": 4,
 "nbformat_minor": 2
}
